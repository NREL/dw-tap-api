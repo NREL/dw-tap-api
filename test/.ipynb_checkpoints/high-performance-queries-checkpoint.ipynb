{
 "cells": [
  {
   "cell_type": "markdown",
   "id": "pursuant-hollow",
   "metadata": {},
   "source": [
    "### Notebook with examples of high-performance HSDS queries"
   ]
  },
  {
   "cell_type": "code",
   "execution_count": 1,
   "id": "meaningful-overview",
   "metadata": {},
   "outputs": [],
   "source": [
    "# Code below uses a class from the rex package:\n",
    "# https://nrel.github.io/rex/rex/rex.multi_year_resource.html#rex.multi_year_resource.MultiYearResource\n",
    "\n",
    "from rex.resource_extraction import MultiYearWindX\n",
    "import pandas as pd\n",
    "\n",
    "# This is a bit different than the code above; MultiYearWindX is used instead of \n",
    "# MultiYearWindResource to access cKDTree object and \n",
    "# find grid points that are the closest to the location of interest\n",
    "\n",
    "myr = MultiYearWindX('/nrel/wtk/conus/wtk_conus_*.h5', hsds=True)"
   ]
  },
  {
   "cell_type": "code",
   "execution_count": 2,
   "id": "severe-religious",
   "metadata": {},
   "outputs": [],
   "source": [
    "dt = myr.time_index"
   ]
  },
  {
   "cell_type": "code",
   "execution_count": 3,
   "id": "empty-implementation",
   "metadata": {},
   "outputs": [
    {
     "name": "stdout",
     "output_type": "stream",
     "text": [
      "Selected time interval corresponds to time indicies in the range between:\n",
      "52608 61368\n"
     ]
    },
    {
     "data": {
      "text/plain": [
       "DatetimeIndex(['2007-01-01 00:00:00+00:00', '2007-01-01 01:00:00+00:00',\n",
       "               '2007-01-01 02:00:00+00:00', '2007-01-01 03:00:00+00:00',\n",
       "               '2007-01-01 04:00:00+00:00'],\n",
       "              dtype='datetime64[ns, UTC]', freq=None)"
      ]
     },
     "execution_count": 3,
     "metadata": {},
     "output_type": "execute_result"
    }
   ],
   "source": [
    "# Subsetting based on the time interval of interest\n",
    "\n",
    "dt = pd.DataFrame({\"datetime\": dt[:]}, index=range(0, dt.shape[0]))\n",
    "start_t = pd.to_datetime('20130101', format='%Y%m%d').tz_localize('UTC') \n",
    "end_t = pd.to_datetime('20140101', format='%Y%m%d').tz_localize('UTC') \n",
    "index_list = dt[(dt.datetime >= start_t) & (dt.datetime <= end_t)].index\n",
    "start_idx = index_list.min()\n",
    "end_idx = index_list.max()\n",
    "\n",
    "print(\"Selected time interval corresponds to time indicies in the range between:\")\n",
    "print(start_idx, end_idx)\n",
    "\n",
    "# This is how time index can be accessed\n",
    "myr.time_index[0:5]"
   ]
  },
  {
   "cell_type": "code",
   "execution_count": 4,
   "id": "framed-population",
   "metadata": {},
   "outputs": [
    {
     "name": "stdout",
     "output_type": "stream",
     "text": [
      "Distances and indices:\n",
      " [0.00688171 0.0175041  0.0196696  0.0208428 ] [2301508 2300566 2301509 2301507]\n",
      "Lat/lon pairs for identified closest grid points:\n",
      " [[ 40.74543  -73.97949 ]\n",
      " [ 40.75046  -74.00308 ]\n",
      " [ 40.763283 -73.97284 ]\n",
      " [ 40.727562 -73.986145]]\n",
      "[8.1  8.77 9.18 ... 6.63 7.58 6.85]\n",
      "Stats for extracted values:\n",
      "count    8760.000000\n",
      "mean        5.208496\n",
      "std         2.570455\n",
      "min         0.060000\n",
      "25%         3.290000\n",
      "50%         4.950000\n",
      "75%         6.840000\n",
      "max        15.720000\n",
      "dtype: float64\n"
     ]
    }
   ],
   "source": [
    "# Find indices of N=4 grid points that are the closest to the site (dd will be distances from the site)\n",
    "latlon = (40.7484, -73.9857)\n",
    "\n",
    "dd,ii = myr.tree.query(latlon, 4)\n",
    "print(\"Distances and indices:\\n\", dd,ii)\n",
    "\n",
    "print(\"Lat/lon pairs for identified closest grid points:\\n\", myr.coordinates[ii])\n",
    "\n",
    "# This is essentially Nearest-Neighbor interpolaton -- extracting wind speed values for the grid point \n",
    "# that is the closest to the specified location\n",
    "values = myr['windspeed_60m', start_idx:end_idx, ii[0]]\n",
    "\n",
    "print(values)\n",
    "print(\"Stats for extracted values:\")\n",
    "print(pd.Series(values).describe())\n",
    "\n",
    "# Performance here should be as good as with MultiYearWindResource (e.g., ~2s for 7 years)"
   ]
  },
  {
   "cell_type": "code",
   "execution_count": 5,
   "id": "bronze-coach",
   "metadata": {},
   "outputs": [
    {
     "name": "stdout",
     "output_type": "stream",
     "text": [
      "Distances and indices:\n",
      " [0.00688171 0.0175041  0.0196696  0.0208428 ] [2301508 2300566 2301509 2301507]\n",
      "Lat/lon pairs for identified closest grid points:\n",
      " [[ 40.74543  -73.97949 ]\n",
      " [ 40.75046  -74.00308 ]\n",
      " [ 40.763283 -73.97284 ]\n",
      " [ 40.727562 -73.986145]]\n"
     ]
    }
   ],
   "source": [
    "latlon = (40.7484, -73.9857)\n",
    "\n",
    "dd,ii = myr.tree.query(latlon, 4)\n",
    "print(\"Distances and indices:\\n\", dd,ii)\n",
    "\n",
    "print(\"Lat/lon pairs for identified closest grid points:\\n\", myr.coordinates[ii])"
   ]
  },
  {
   "cell_type": "code",
   "execution_count": 6,
   "id": "decimal-approval",
   "metadata": {},
   "outputs": [
    {
     "data": {
      "text/html": [
       "<div>\n",
       "<style scoped>\n",
       "    .dataframe tbody tr th:only-of-type {\n",
       "        vertical-align: middle;\n",
       "    }\n",
       "\n",
       "    .dataframe tbody tr th {\n",
       "        vertical-align: top;\n",
       "    }\n",
       "\n",
       "    .dataframe thead th {\n",
       "        text-align: right;\n",
       "    }\n",
       "</style>\n",
       "<table border=\"1\" class=\"dataframe\">\n",
       "  <thead>\n",
       "    <tr style=\"text-align: right;\">\n",
       "      <th></th>\n",
       "      <th>lat</th>\n",
       "      <th>lon</th>\n",
       "      <th>index</th>\n",
       "      <th>d</th>\n",
       "    </tr>\n",
       "  </thead>\n",
       "  <tbody>\n",
       "    <tr>\n",
       "      <th>0</th>\n",
       "      <td>40.74543</td>\n",
       "      <td>-73.979492</td>\n",
       "      <td>2301508</td>\n",
       "      <td>0.006882</td>\n",
       "    </tr>\n",
       "  </tbody>\n",
       "</table>\n",
       "</div>"
      ],
      "text/plain": [
       "        lat        lon    index         d\n",
       "0  40.74543 -73.979492  2301508  0.006882"
      ]
     },
     "metadata": {},
     "output_type": "display_data"
    }
   ],
   "source": [
    "def find_tile_optimized(myr, lat, lon, gridpoint_count=1):\n",
    "    \"\"\" Return dataframe with information about gridpoints in resource f that\n",
    "    are neighboring (lat, lon).\n",
    "    \n",
    "    This is the NEW version; old one below should be eventually DEPRECATED!\n",
    "    \"\"\"\n",
    "    dd,ii = myr.tree.query((lat,lon), gridpoint_count)\n",
    "    if gridpoint_count == 1:\n",
    "        dd = [dd]\n",
    "        ii = [ii]\n",
    "        \n",
    "    gridpoints_latlon = myr.coordinates[ii]\n",
    "    \n",
    "    res = pd.DataFrame(columns=[\"lat\", \"lon\", \"index\", \"d\"])\n",
    "\n",
    "    for i in range(len(ii)):\n",
    "        res.loc[len(res)] = [gridpoints_latlon[i][0], gridpoints_latlon[i][1], ii[i], dd[i]]\n",
    "    \n",
    "    res[\"index\"] = pd.to_numeric(res[\"index\"], downcast='integer')\n",
    "    \n",
    "    # The returned dataframe will be sorted by d because tree.query() returns points sorted by distance\n",
    "    return res\n",
    "\n",
    "display(find_tile_optimized(myr, 40.7484, -73.9857, 1))"
   ]
  },
  {
   "cell_type": "code",
   "execution_count": 7,
   "id": "nuclear-contemporary",
   "metadata": {},
   "outputs": [
    {
     "data": {
      "text/plain": [
       "['coordinates',\n",
       " 'inversemoninobukhovlength_2m',\n",
       " 'meta',\n",
       " 'precipitationrate_0m',\n",
       " 'pressure_0m',\n",
       " 'pressure_100m',\n",
       " 'pressure_200m',\n",
       " 'relativehumidity_2m',\n",
       " 'temperature_100m',\n",
       " 'temperature_10m',\n",
       " 'temperature_120m',\n",
       " 'temperature_140m',\n",
       " 'temperature_160m',\n",
       " 'temperature_200m',\n",
       " 'temperature_2m',\n",
       " 'temperature_40m',\n",
       " 'temperature_60m',\n",
       " 'temperature_80m',\n",
       " 'time_index',\n",
       " 'winddirection_100m',\n",
       " 'winddirection_10m',\n",
       " 'winddirection_120m',\n",
       " 'winddirection_140m',\n",
       " 'winddirection_160m',\n",
       " 'winddirection_200m',\n",
       " 'winddirection_40m',\n",
       " 'winddirection_60m',\n",
       " 'winddirection_80m',\n",
       " 'windspeed_100m',\n",
       " 'windspeed_10m',\n",
       " 'windspeed_120m',\n",
       " 'windspeed_140m',\n",
       " 'windspeed_160m',\n",
       " 'windspeed_200m',\n",
       " 'windspeed_40m',\n",
       " 'windspeed_60m',\n",
       " 'windspeed_80m']"
      ]
     },
     "execution_count": 7,
     "metadata": {},
     "output_type": "execute_result"
    }
   ],
   "source": [
    "sorted(list(myr))"
   ]
  },
  {
   "cell_type": "code",
   "execution_count": 8,
   "id": "searching-border",
   "metadata": {},
   "outputs": [
    {
     "data": {
      "text/plain": [
       "array([0., 0., 0., ..., 0., 0., 0.], dtype=float32)"
      ]
     },
     "execution_count": 8,
     "metadata": {},
     "output_type": "execute_result"
    }
   ],
   "source": [
    "myr['inversemoninobukhovlength_2m', start_idx:end_idx, ii[0]]"
   ]
  },
  {
   "cell_type": "code",
   "execution_count": null,
   "id": "dramatic-lawyer",
   "metadata": {},
   "outputs": [],
   "source": []
  }
 ],
 "metadata": {
  "kernelspec": {
   "display_name": "Python 3",
   "language": "python",
   "name": "python3"
  },
  "language_info": {
   "codemirror_mode": {
    "name": "ipython",
    "version": 3
   },
   "file_extension": ".py",
   "mimetype": "text/x-python",
   "name": "python",
   "nbconvert_exporter": "python",
   "pygments_lexer": "ipython3",
   "version": "3.7.10"
  }
 },
 "nbformat": 4,
 "nbformat_minor": 5
}
