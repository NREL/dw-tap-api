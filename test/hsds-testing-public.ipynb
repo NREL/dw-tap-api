{
 "cells": [
  {
   "cell_type": "code",
   "execution_count": 1,
   "id": "utility-witch",
   "metadata": {},
   "outputs": [
    {
     "name": "stdout",
     "output_type": "stream",
     "text": [
      "\n",
      "Printing list of availble datasets:\n",
      "['DIF', 'DNI', 'GHI', 'coordinates', 'datetime', 'inversemoninobukhovlength_2m', 'precipitationrate_0m', 'pressure_0m', 'pressure_100m', 'pressure_200m', 'relativehumidity_2m', 'status', 'temperature_100m', 'temperature_10m', 'temperature_120m', 'temperature_140m', 'temperature_160m', 'temperature_200m', 'temperature_2m', 'temperature_40m', 'temperature_60m', 'temperature_80m', 'winddirection_100m', 'winddirection_10m', 'winddirection_120m', 'winddirection_140m', 'winddirection_160m', 'winddirection_200m', 'winddirection_40m', 'winddirection_60m', 'winddirection_80m', 'windspeed_100m', 'windspeed_10m', 'windspeed_120m', 'windspeed_140m', 'windspeed_160m', 'windspeed_200m', 'windspeed_40m', 'windspeed_60m', 'windspeed_80m']\n",
      "\n",
      "Printing small sample of windspeed data (3 values, first one should be: 10.68148):\n",
      "[10.68148  10.650963 10.821861]\n"
     ]
    }
   ],
   "source": [
    "# This code follows examples from: https://github.com/NREL/hsds-examples\n",
    "\n",
    "# To install rex and h5py, see instructions at: https://nrel.github.io/rex/index.html\n",
    "\n",
    "import h5pyd\n",
    "import pandas as pd\n",
    "import dateutil\n",
    "from random import randrange\n",
    "import rex\n",
    "\n",
    "class InvalidUsage(Exception):\n",
    "    status_code = 400\n",
    "\n",
    "    def __init__(self, message, status_code=None, payload=None):\n",
    "        Exception.__init__(self)\n",
    "        self.message = message\n",
    "        if status_code is not None:\n",
    "            self.status_code = status_code\n",
    "        self.payload = payload\n",
    "\n",
    "    def to_dict(self):\n",
    "        rv = dict(self.payload or ())\n",
    "        rv['message'] = self.message\n",
    "        return rv\n",
    "\n",
    "def available_datasets(f):\n",
    "    \"\"\" Return list of all datasets available in resource f.\n",
    "    \"\"\"\n",
    "    try:\n",
    "        datasets = sorted(list(f))\n",
    "    except ValueError:\n",
    "        raise InvalidUsage(\"Problem with processing WTK datasets.\")\n",
    "    return datasets\n",
    "\n",
    "endpoint = \"https://developer.nrel.gov/api/hsds\"\n",
    "domain = \"/nrel/wtk-us.h5\"\n",
    "username = None\n",
    "password = None\n",
    "api_key = \"3K3JQbjZmWctY0xmIfSYvYgtIcM3CN0cb1Y2w9bf\"\n",
    "\n",
    "try:\n",
    "    hsds_f = h5pyd.File(domain=domain,\n",
    "                   endpoint=endpoint,\n",
    "                   username=username,\n",
    "                   password=password,\n",
    "                   api_key=api_key,\n",
    "                   mode='r')\n",
    "\n",
    "except OSError:\n",
    "    raise InvalidUsage(\"Failed to access HSDS resource\", status_code=403)\n",
    "\n",
    "print(\"\\nPrinting list of availble datasets:\")\n",
    "print(available_datasets(hsds_f))\n",
    "\n",
    "print(\"\\nPrinting small sample of windspeed data (3 values, first one should be: 10.68148):\")\n",
    "dset = hsds_f[\"windspeed_60m\"]\n",
    "\n",
    "# First argument -- range of timesteps corresponding to time indices (see the next cell);\n",
    "# second and third -- indices corresponding to lat,lon pairs in the coordinates array\n",
    "print(dset[420:420+3, 42, 42])"
   ]
  },
  {
   "cell_type": "code",
   "execution_count": 2,
   "id": "orange-network",
   "metadata": {},
   "outputs": [
    {
     "name": "stdout",
     "output_type": "stream",
     "text": [
      "                 datetime\n",
      "0     2007-01-01 00:00:00\n",
      "1     2007-01-01 01:00:00\n",
      "2     2007-01-01 02:00:00\n",
      "3     2007-01-01 03:00:00\n",
      "4     2007-01-01 04:00:00\n",
      "...                   ...\n",
      "61363 2013-12-31 19:00:00\n",
      "61364 2013-12-31 20:00:00\n",
      "61365 2013-12-31 21:00:00\n",
      "61366 2013-12-31 22:00:00\n",
      "61367 2013-12-31 23:00:00\n",
      "\n",
      "[61368 rows x 1 columns]\n"
     ]
    }
   ],
   "source": [
    "def time_indices_all(f):\n",
    "    \"\"\" Returns a dataframe with all processed timestamps from HSDS resource f\"\"\"\n",
    "    dt = f[\"datetime\"]\n",
    "    dt = pd.DataFrame({\"datetime\": dt[:]}, index=range(0, dt.shape[0]))\n",
    "    dt['datetime'] = dt['datetime'].apply(dateutil.parser.parse)\n",
    "    return dt\n",
    "\n",
    "time_df = time_indices_all(hsds_f)\n",
    "print(time_df)"
   ]
  },
  {
   "cell_type": "code",
   "execution_count": 3,
   "id": "jewish-jesus",
   "metadata": {},
   "outputs": [
    {
     "name": "stdout",
     "output_type": "stream",
     "text": [
      "Selected time interval corresponds to time indicies in the range between:\n",
      "26304 43824\n"
     ]
    }
   ],
   "source": [
    "# Example of subsetting based on time index; 2-year example\n",
    "\n",
    "start_t = pd.to_datetime('20100101', format='%Y%m%d')\n",
    "end_t = pd.to_datetime('20120101', format='%Y%m%d')\n",
    "index_list = time_df[(time_df.datetime >= start_t) & (time_df.datetime <= end_t)].index\n",
    "start_idx = index_list.min()\n",
    "end_idx = index_list.max()\n",
    "\n",
    "print(\"Selected time interval corresponds to time indicies in the range between:\")\n",
    "print(start_idx, end_idx)"
   ]
  },
  {
   "cell_type": "code",
   "execution_count": 4,
   "id": "great-malawi",
   "metadata": {},
   "outputs": [
    {
     "name": "stdout",
     "output_type": "stream",
     "text": [
      "[10.09552   12.027344  11.42308   ...  4.660179   5.368202   4.7975082]\n",
      "Stats for extracted values:\n",
      "count    17521.000000\n",
      "mean         6.733769\n",
      "std          2.163086\n",
      "min          0.128181\n",
      "25%          5.282753\n",
      "50%          6.756798\n",
      "75%          8.178963\n",
      "max         15.594955\n",
      "dtype: float64\n"
     ]
    }
   ],
   "source": [
    "dset = hsds_f[\"windspeed_60m\"]\n",
    "values = dset[start_idx:end_idx + 1, 42, 42]\n",
    "\n",
    "print(values)\n",
    "print(\"Stats for extracted values:\")\n",
    "print(pd.Series(values).describe())"
   ]
  },
  {
   "cell_type": "code",
   "execution_count": 5,
   "id": "behavioral-pricing",
   "metadata": {},
   "outputs": [
    {
     "name": "stdout",
     "output_type": "stream",
     "text": [
      "4.3 s ± 727 ms per loop (mean ± std. dev. of 7 runs, 1 loop each)\n"
     ]
    }
   ],
   "source": [
    "%%timeit\n",
    "\n",
    "# This cell helps to see how fast this query is;\n",
    "# every time we run this, a new location in the array will be used to avoid potential effects of caching on the HSDS side;\n",
    "# %%timeit needs to be at the very top of the cell; by default it times 7 executions of the code in the cell\n",
    "\n",
    "idx = randrange(1500)  \n",
    "dset = hsds_f[\"windspeed_60m\"]\n",
    "values = dset[start_idx:end_idx + 1, idx, idx]\n",
    "\n",
    "# My result here: 5.33 s ± 1.19 s per loop (mean ± std. dev. of 7 runs, 1 loop each)"
   ]
  },
  {
   "cell_type": "markdown",
   "id": "dynamic-banks",
   "metadata": {},
   "source": [
    "### More Efficient Code for Multi-Year Queries"
   ]
  },
  {
   "cell_type": "code",
   "execution_count": 6,
   "id": "pacific-longer",
   "metadata": {},
   "outputs": [],
   "source": [
    "# This code will use a class from the rex package:\n",
    "# https://nrel.github.io/rex/rex/rex.multi_year_resource.html#rex.multi_year_resource.MultiYearResource"
   ]
  },
  {
   "cell_type": "code",
   "execution_count": 7,
   "id": "forward-computer",
   "metadata": {},
   "outputs": [],
   "source": [
    "from rex.multi_year_resource import * \n",
    "\n",
    "myr = MultiYearWindResource('/nrel/wtk/conus/wtk_conus_*.h5', hsds=True)\n",
    "# To see what is available inside this object/class, type `help(myr)` in a separate cell"
   ]
  },
  {
   "cell_type": "code",
   "execution_count": 8,
   "id": "willing-angola",
   "metadata": {},
   "outputs": [
    {
     "data": {
      "text/plain": [
       "array([[  37.603382, -127.61705 ],\n",
       "       [  37.62042 , -127.62601 ],\n",
       "       [  37.63745 , -127.63498 ],\n",
       "       [  37.654484, -127.64395 ],\n",
       "       [  37.67151 , -127.65292 ]], dtype=float32)"
      ]
     },
     "execution_count": 8,
     "metadata": {},
     "output_type": "execute_result"
    }
   ],
   "source": [
    "# This is how coordinates can be accessed\n",
    "myr.coordinates[0:5]"
   ]
  },
  {
   "cell_type": "code",
   "execution_count": 9,
   "id": "acceptable-bradley",
   "metadata": {},
   "outputs": [
    {
     "data": {
      "text/plain": [
       "DatetimeIndex(['2007-01-01 00:00:00+00:00', '2007-01-01 01:00:00+00:00',\n",
       "               '2007-01-01 02:00:00+00:00', '2007-01-01 03:00:00+00:00',\n",
       "               '2007-01-01 04:00:00+00:00'],\n",
       "              dtype='datetime64[ns, UTC]', freq=None)"
      ]
     },
     "execution_count": 9,
     "metadata": {},
     "output_type": "execute_result"
    }
   ],
   "source": [
    "# This is how time index can be accessed\n",
    "myr.time_index[0:5]"
   ]
  },
  {
   "cell_type": "code",
   "execution_count": 10,
   "id": "extensive-sharp",
   "metadata": {},
   "outputs": [
    {
     "name": "stdout",
     "output_type": "stream",
     "text": [
      "Selected time interval corresponds to time indicies in the range between:\n",
      "26304 43824\n"
     ]
    }
   ],
   "source": [
    "# Just like in the example above, we can subset based on the time interval of interest\n",
    "\n",
    "dt = myr.time_index\n",
    "dt = pd.DataFrame({\"datetime\": dt[:]}, index=range(0, dt.shape[0]))\n",
    "start_t = pd.to_datetime('20100101', format='%Y%m%d').tz_localize('UTC') \n",
    "end_t = pd.to_datetime('20120101', format='%Y%m%d').tz_localize('UTC') \n",
    "index_list = dt[(dt.datetime >= start_t) & (dt.datetime <= end_t)].index\n",
    "start_idx = index_list.min()\n",
    "end_idx = index_list.max()\n",
    "\n",
    "print(\"Selected time interval corresponds to time indicies in the range between:\")\n",
    "print(start_idx, end_idx)"
   ]
  },
  {
   "cell_type": "code",
   "execution_count": 11,
   "id": "trying-philippines",
   "metadata": {},
   "outputs": [
    {
     "name": "stdout",
     "output_type": "stream",
     "text": [
      "[14.16 14.14 13.58 ...  3.54  3.73  4.06]\n",
      "Stats for extracted values:\n",
      "count    17521.000000\n",
      "mean         9.161532\n",
      "std          3.701231\n",
      "min          0.140000\n",
      "25%          6.500000\n",
      "50%          9.000000\n",
      "75%         11.700000\n",
      "max         23.620001\n",
      "dtype: float64\n"
     ]
    }
   ],
   "source": [
    "values = myr['windspeed_60m', start_idx:end_idx+1, 3]\n",
    "\n",
    "print(values)\n",
    "print(\"Stats for extracted values:\")\n",
    "print(pd.Series(values).describe())"
   ]
  },
  {
   "cell_type": "code",
   "execution_count": 12,
   "id": "brutal-lighter",
   "metadata": {},
   "outputs": [
    {
     "name": "stdout",
     "output_type": "stream",
     "text": [
      "The slowest run took 4.18 times longer than the fastest. This could mean that an intermediate result is being cached.\n",
      "1.06 s ± 701 ms per loop (mean ± std. dev. of 7 runs, 1 loop each)\n"
     ]
    }
   ],
   "source": [
    "%%timeit\n",
    "\n",
    "idx = randrange(500)  \n",
    "values = myr['windspeed_60m', start_idx:end_idx+1, idx]\n",
    "\n",
    "# My result here: 720 ms ± 46.7 ms per loop (mean ± std. dev. of 7 runs, 1 loop each)\n",
    "\n",
    "# Great Improvement! This is more than 5x faster than the method used above (without rex)\n",
    "\n",
    "# The key difference isn't the interface but rather the fact the domain '/nrel/wtk/conus/wtk_conus_*.h5' is used here\n",
    "# instead of: '/nrel/wtk-us.h5'; the former is optimized for longer queries"
   ]
  },
  {
   "cell_type": "code",
   "execution_count": 13,
   "id": "defensive-blake",
   "metadata": {},
   "outputs": [
    {
     "name": "stdout",
     "output_type": "stream",
     "text": [
      "1.92 s ± 168 ms per loop (mean ± std. dev. of 7 runs, 1 loop each)\n"
     ]
    }
   ],
   "source": [
    "%%timeit \n",
    "\n",
    "idx = randrange(500)\n",
    "values = myr['windspeed_60m', :, idx]\n",
    "\n",
    "# My result here for queries all 7 years: 2.07 s ± 189 ms per loop (mean ± std. dev. of 7 runs, 1 loop each)\n",
    "\n",
    "# Conclusion: scaling here isn't linear, i.e. querying 7 years is faster than querying 1 year 7 times."
   ]
  },
  {
   "cell_type": "markdown",
   "id": "initial-influence",
   "metadata": {},
   "source": [
    "### Making sense of coordinates"
   ]
  },
  {
   "cell_type": "code",
   "execution_count": 14,
   "id": "fresh-electric",
   "metadata": {},
   "outputs": [],
   "source": [
    "from rex.resource_extraction import *\n",
    "\n",
    "# This is a bit different than the code above; MultiYearWindX is used instead of MultiYearWindResource to access cKDTree object and \n",
    "# find grid points that are the closest to the location of interest\n",
    "\n",
    "myr = MultiYearWindX('/nrel/wtk/conus/wtk_conus_*.h5', hsds=True)\n",
    "# To see what is available inside this object/class, type `help(myr)` in a separate cell"
   ]
  },
  {
   "cell_type": "code",
   "execution_count": 15,
   "id": "copyrighted-toner",
   "metadata": {},
   "outputs": [
    {
     "name": "stdout",
     "output_type": "stream",
     "text": [
      "[0.00688171 0.0175041  0.0196696  0.0208428 ] [2301508 2300566 2301509 2301507]\n",
      "[[ 40.74543  -73.97949 ]\n",
      " [ 40.75046  -74.00308 ]\n",
      " [ 40.763283 -73.97284 ]\n",
      " [ 40.727562 -73.986145]]\n"
     ]
    }
   ],
   "source": [
    "# Find indices of N=4 grid points that are the closest to the site (dd will be distances from the site)\n",
    "NewYorkPoint = (40.7484, -73.9857)\n",
    "\n",
    "dd,ii = myr.tree.query(NewYorkPoint, 4)\n",
    "print(dd,ii)\n",
    "\n",
    "print(myr.coordinates[ii])"
   ]
  },
  {
   "cell_type": "code",
   "execution_count": 16,
   "id": "great-violence",
   "metadata": {},
   "outputs": [
    {
     "name": "stdout",
     "output_type": "stream",
     "text": [
      "[3.38 2.64 3.2  ... 6.14 6.59 6.47]\n",
      "Stats for extracted values:\n",
      "count    70128.000000\n",
      "mean         5.342026\n",
      "std          2.691895\n",
      "min          0.040000\n",
      "25%          3.390000\n",
      "50%          5.020000\n",
      "75%          6.940000\n",
      "max         26.240000\n",
      "dtype: float64\n"
     ]
    }
   ],
   "source": [
    "# This is essentially Nearest-Neighbor interpolaton -- extracting wind speed values for the grid point \n",
    "# that is the closest to the specified location\n",
    "values = myr['windspeed_60m', :, ii[0]]\n",
    "\n",
    "print(values)\n",
    "print(\"Stats for extracted values:\")\n",
    "print(pd.Series(values).describe())\n",
    "\n",
    "# Performance here should be as good as what we say above with MultiYearWindResource (e.g., ~2s for 7 years)"
   ]
  },
  {
   "cell_type": "code",
   "execution_count": null,
   "id": "german-eleven",
   "metadata": {},
   "outputs": [],
   "source": []
  }
 ],
 "metadata": {
  "kernelspec": {
   "display_name": "Python 3",
   "language": "python",
   "name": "python3"
  },
  "language_info": {
   "codemirror_mode": {
    "name": "ipython",
    "version": 3
   },
   "file_extension": ".py",
   "mimetype": "text/x-python",
   "name": "python",
   "nbconvert_exporter": "python",
   "pygments_lexer": "ipython3",
   "version": "3.7.7"
  }
 },
 "nbformat": 4,
 "nbformat_minor": 5
}
