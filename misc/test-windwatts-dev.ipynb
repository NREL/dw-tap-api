{
 "cells": [
  {
   "cell_type": "markdown",
   "id": "eddd2b69-1257-476a-bdd1-47cb122a414c",
   "metadata": {},
   "source": [
    "### Required setup:\n",
    "\n",
    "`pip install httpx[http2]`"
   ]
  },
  {
   "cell_type": "code",
   "execution_count": 2,
   "id": "963f7b24-d4d8-4bea-a0b8-08a331564978",
   "metadata": {},
   "outputs": [
    {
     "name": "stdout",
     "output_type": "stream",
     "text": [
      "b'[\\n  \"{\\\\\"data\\\\\": \\\\\"mohr,precipitation_0m,pressure_0m,pressure_100m,pressure_200m,pressure_500m,temperature_1000m,temperature_100m,temperature_200m,temperature_2m,temperature_300m,temperature_30m,temperature_40m,temperature_500m,temperature_60m,temperature_80m,winddirection_1000m,winddirection_100m,winddirection_10m,winddirection_120m,winddirection_140m,winddirection_160m,winddirection_180m,winddirection_200m,winddirection_250m,winddirection_300m,winddirection_30m,winddirection_40m,winddirection_60m,winddirection_80m,winddirection_500m,windspeed_1000m,windspeed_100m,windspeed_10m,windspeed_120m,windspeed_140m,windspeed_160m,windspeed_180m,windspeed_200m,windspeed_250m,windspeed_300m,windspeed_40m,windspeed_30m,windspeed_500m,windspeed_60m,windspeed_80m,month,h,year\\\\\\\\n101,36.086006,82130.0,81110.0,80110.0,77160.0,-4.71,1.68,0.94,0.89,0.2,1.9,1.95,-1.28,1.93,1.82,303.98,306.05,307.09,305.82,306.08,310.47,315.81,316.41,317.03,313.01,302.74,304.28,305.85,306.2,307.2,10.32,6.82,2.05,6.69,6.59,6.53,6.51,6.51,6.62,6.84,5.23,4.34,7.81,6.33,6.71,1,1,2001\\\\\\\\n102,36.138237,82150.0,81120.0,80120.0,77170.0,-4.67,1.35,0.71,0.19,0.0,1.39,1.51,-1.55,1.54,1.46,307.96,298.22,294.68,301.85,305.56,308.6,311.4,313.84,318.55,318.35,300.23,300.97,297.22,296.12,318.29,9.99,6.97,2.31,7.09,7.21,7.36,7.46,7.51,7.78,8.06,5.84,4.99,9.31,6.59,6.82,1,2,2001\\\\\\\\n103,36.220783,82160.0,81140.0,80130.0,77180.0,-4.78,1.12,0.58,-0.16,-0.18,1.04,1.17,-1.64,1.23,1.19,308.01,302.44,263.83,304.37,306.83,308.75,310.44,311.32,310.97,310.06,283.82,291.39,299.61,301.53,309.51,9.35,8.55,2.39,8.49,8.41,8.31,8.2,8.11,8.0,7.95,6.82,5.77,8.12,7.84,8.29,1,3,2001\\\\\\\\n104,36.305893,82180.0,81160.0,80150.0,77200.0,-4.92,0.91,0.35,-0.45,-0.32,0.83,1.0,-1.72,1.06,1.0,302.66,290.73,266.14,294.32,297.95,300.77,302.96,304.83,308.54,306.67,280.3,281.48,283.78,287.52,307.11,10.23,7.74,2.38,7.85,7.95,8.04,8.12,8.19,8.23,8.33,6.8,5.84,8.68,7.45,7.59,1,4,2001\\\\\\\\n105,36.36418,82200.0,81170.0,80160.0,77200.0,-4.91,0.71,0.2\n"
     ]
    }
   ],
   "source": [
    "import httpx\n",
    "import json\n",
    "\n",
    "def read_json_from_file(file_path):\n",
    "  try:\n",
    "    with open(file_path, 'r') as f:\n",
    "      data = json.load(f)\n",
    "    return data\n",
    "  except FileNotFoundError:\n",
    "    print(f\"Error: File not found at {file_path}\")\n",
    "    return None\n",
    "  except json.JSONDecodeError:\n",
    "    print(f\"Error: Invalid JSON format in {file_path}\")\n",
    "    return None\n",
    "\n",
    "url = \"https://dw-tap-dev.stratus.nrel.gov/batch\"\n",
    "file_path = \"test.json\"  \n",
    "json_data = read_json_from_file(file_path)\n",
    "\n",
    "async with httpx.AsyncClient(http2=True) as client:\n",
    "\n",
    "    response = await client.request(\n",
    "      method=\"GET\",\n",
    "      url=url,\n",
    "      json=json_data,\n",
    "      timeout=None\n",
    "    )\n",
    "\n",
    "# print only the top of the very long output\n",
    "print(str(response.content)[:2000])"
   ]
  },
  {
   "cell_type": "code",
   "execution_count": null,
   "id": "43f10884-0326-49d8-be48-ac382c2c92c4",
   "metadata": {},
   "outputs": [],
   "source": []
  }
 ],
 "metadata": {
  "kernelspec": {
   "display_name": "Python 3 (ipykernel)",
   "language": "python",
   "name": "python3"
  },
  "language_info": {
   "codemirror_mode": {
    "name": "ipython",
    "version": 3
   },
   "file_extension": ".py",
   "mimetype": "text/x-python",
   "name": "python",
   "nbconvert_exporter": "python",
   "pygments_lexer": "ipython3",
   "version": "3.8.18"
  }
 },
 "nbformat": 4,
 "nbformat_minor": 5
}
