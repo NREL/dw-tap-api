{
 "cells": [
  {
   "cell_type": "markdown",
   "id": "eddd2b69-1257-476a-bdd1-47cb122a414c",
   "metadata": {},
   "source": [
    "### Required setup:\n",
    "\n",
    "`pip install httpx[http2]`"
   ]
  },
  {
   "cell_type": "code",
   "execution_count": 4,
   "id": "963f7b24-d4d8-4bea-a0b8-08a331564978",
   "metadata": {},
   "outputs": [
    {
     "name": "stdout",
     "output_type": "stream",
     "text": [
      "Error: File not found at test.json\n",
      "b'{\"message\": \"This endpoint is expecting request data wrapped in a JSON object.\", \"status\": 1}'\n"
     ]
    }
   ],
   "source": [
    "import httpx\n",
    "import json\n",
    "\n",
    "def read_json_from_file(file_path):\n",
    "  try:\n",
    "    with open(file_path, 'r') as f:\n",
    "      data = json.load(f)\n",
    "    return data\n",
    "  except FileNotFoundError:\n",
    "    print(f\"Error: File not found at {file_path}\")\n",
    "    return None\n",
    "  except json.JSONDecodeError:\n",
    "    print(f\"Error: Invalid JSON format in {file_path}\")\n",
    "    return None\n",
    "\n",
    "url = \"https://dw-tap-dev.stratus.nrel.gov/batch\"\n",
    "file_path = \"test.json\"  \n",
    "json_data = read_json_from_file(file_path)\n",
    "\n",
    "async with httpx.AsyncClient(http2=True) as client:\n",
    "\n",
    "    response = await client.request(\n",
    "      method=\"GET\",\n",
    "      url=url,\n",
    "      json=json_data,\n",
    "      timeout=None\n",
    "    )\n",
    "\n",
    "# print only the top of the very long output\n",
    "print(str(response.content)[:2000])"
   ]
  },
  {
   "cell_type": "code",
   "execution_count": null,
   "id": "43f10884-0326-49d8-be48-ac382c2c92c4",
   "metadata": {},
   "outputs": [],
   "source": []
  }
 ],
 "metadata": {
  "kernelspec": {
   "display_name": "Python 3 (ipykernel)",
   "language": "python",
   "name": "python3"
  },
  "language_info": {
   "codemirror_mode": {
    "name": "ipython",
    "version": 3
   },
   "file_extension": ".py",
   "mimetype": "text/x-python",
   "name": "python",
   "nbconvert_exporter": "python",
   "pygments_lexer": "ipython3",
   "version": "3.8.18"
  }
 },
 "nbformat": 4,
 "nbformat_minor": 5
}
